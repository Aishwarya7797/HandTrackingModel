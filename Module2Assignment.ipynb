{
  "nbformat": 4,
  "nbformat_minor": 0,
  "metadata": {
    "colab": {
      "name": "Module2Assignment.ipynb",
      "provenance": [],
      "collapsed_sections": [],
      "toc_visible": true,
      "include_colab_link": true
    },
    "kernelspec": {
      "name": "python3",
      "display_name": "Python 3"
    },
    "language_info": {
      "name": "python"
    }
  },
  "cells": [
    {
      "cell_type": "markdown",
      "metadata": {
        "id": "view-in-github",
        "colab_type": "text"
      },
      "source": [
        "<a href=\"https://colab.research.google.com/github/Aishwarya7797/HandTrackingModel/blob/main/Module2Assignment.ipynb\" target=\"_parent\"><img src=\"https://colab.research.google.com/assets/colab-badge.svg\" alt=\"Open In Colab\"/></a>"
      ]
    },
    {
      "cell_type": "markdown",
      "metadata": {
        "id": "dB4_y4GBm0tt"
      },
      "source": [
        "# A-Star Search Algorithm"
      ]
    },
    {
      "cell_type": "markdown",
      "metadata": {
        "id": "hRmWMPwTm5Ob"
      },
      "source": [
        "This notebook complements the walkthrough article [here](https://towardsdatascience.com/a-star-a-search-algorithm-eb495fb156bb) on the A-Star search algorithm. Throughout the notebook, we ask to you finish sections on your own and answer questions."
      ]
    },
    {
      "cell_type": "markdown",
      "metadata": {
        "id": "auBnTGWHoMle"
      },
      "source": [
        "## [Question - Describe A*]\n",
        "Describe A* search in your own words. **bold text**\n",
        "\n",
        "A-star (A*) is a powerful Artificial Intelligence algorithm with a wide range of applications. Its heuristic function, on the other hand, is only as good as its heuristic function ( which can be highly variable considering the nature of a problem). Because of its flexibility, A* is the most popular choice for pathfinding.It has been used in a variety of software systems, ranging from machine learning and search optimization to game creation, where characters must cross difficult terrain and obstacles in order to reach the player.\n",
        "\n",
        "\n"
      ]
    },
    {
      "cell_type": "markdown",
      "metadata": {
        "id": "FsP7pSLAoooN"
      },
      "source": [
        "## [Question - Describe h and g]\n",
        "In A* search, describe the two key elements of *f(n)* (namely *h(n)* and *g(n)*). What do they represent in the algorithm and how do they differ? **bold text**\n",
        "\n",
        "When we look into the A* search algorithm we see that the \n",
        "f(n)--> Lowest cost in the neighboring node n\n",
        "g(n)--> The exact cost of the path from the starting node till the node n.\n",
        "h(n)--> The Heuristic estimated cost from node n till the goal node is represented. The above values are calculated using the formula as.\n",
        "f(n) = g(n) + h(n)\n",
        "\n",
        "\n"
      ]
    },
    {
      "cell_type": "markdown",
      "metadata": {
        "id": "-_VkEgNWuMDK"
      },
      "source": [
        "## [Activity - run Node]\n",
        "Examine and run the below code."
      ]
    },
    {
      "cell_type": "code",
      "metadata": {
        "id": "ufRvBVJBmmxA"
      },
      "source": [
        "\n",
        "class Node():\n",
        "    \"\"\"A node class for A* Pathfinding\"\"\"\n",
        "\n",
        "    def __init__(self, parent=None, position=None):\n",
        "        self.parent = parent\n",
        "        self.position = position\n",
        "\n",
        "        self.g = 0\n",
        "        self.h = 0\n",
        "        self.f = 0\n",
        "\n",
        "    def __eq__(self, other):\n",
        "        return self.position == other.position"
      ],
      "execution_count": 1,
      "outputs": []
    },
    {
      "cell_type": "markdown",
      "metadata": {
        "id": "Ucsmb_lfuTrp"
      },
      "source": [
        "## [Question - Explain 'Node']\n",
        "In your own words, describe what the purpose of the *Node* class is. Why do we have to initialize a parent and a position?\n",
        "\n",
        "A Node is a generic node that can be used in a linked list. Each node has a piece of data (a reference to an E object) as well as a link (which is a reference to the next node of the list). A null reference can be stored in a node. Lists of nodes can be as long as they want, limited only by the heap's free memory.The Node class is used to build a node object. This allows us to access the nodes individually and include elements such as the parent node and next node. This allows us to calculate the least cost function. The position aids in determining the route or path that the function must follow. If the Parent node is \"None,\" the Maze's beginning node is said to be \"None.\""
      ]
    },
    {
      "cell_type": "markdown",
      "metadata": {
        "id": "B6s0TVMuur8t"
      },
      "source": [
        "## [Activity - Run astar() ]"
      ]
    },
    {
      "cell_type": "code",
      "metadata": {
        "id": "wYzrkdjZpxZs"
      },
      "source": [
        "def astar(maze, start, end):\n",
        "    \"\"\"Returns a list of tuples as a path from the given start to the given end in the given maze\"\"\"\n",
        "\n",
        "    # Create start and end node\n",
        "    start_node = Node(None, start)\n",
        "    start_node.g = start_node.h = start_node.f = 0\n",
        "    end_node = Node(None, end)\n",
        "    end_node.g = end_node.h = end_node.f = 0\n",
        "\n",
        "    # Initialize both open and closed list\n",
        "    open_list = []\n",
        "    closed_list = []\n",
        "\n",
        "    # Add the start node\n",
        "    open_list.append(start_node)\n",
        "\n",
        "    # Loop until you find the end\n",
        "    while len(open_list) > 0:\n",
        "\n",
        "        # Get the current node\n",
        "        current_node = open_list[0]\n",
        "        current_index = 0\n",
        "        for index, item in enumerate(open_list):\n",
        "            if item.f < current_node.f:\n",
        "                current_node = item\n",
        "                current_index = index\n",
        "\n",
        "        # Pop current off open list, add to closed list\n",
        "        open_list.pop(current_index)\n",
        "        closed_list.append(current_node)\n",
        "\n",
        "        # Found the goal\n",
        "        if current_node == end_node:\n",
        "            path = []\n",
        "            current = current_node\n",
        "            while current is not None:\n",
        "                path.append(current.position)\n",
        "                current = current.parent\n",
        "            return path[::-1] # Return reversed path\n",
        "\n",
        "        # Generate children\n",
        "        children = []\n",
        "        for new_position in [(0, -1), (0, 1), (-1, 0), (1, 0), (-1, -1), (-1, 1), (1, -1), (1, 1)]: # Adjacent squares\n",
        "\n",
        "            # Get node position\n",
        "            node_position = (current_node.position[0] + new_position[0], current_node.position[1] + new_position[1])\n",
        "\n",
        "            # Make sure within range\n",
        "            if node_position[0] > (len(maze) - 1) or node_position[0] < 0 or node_position[1] > (len(maze[len(maze)-1]) -1) or node_position[1] < 0:\n",
        "                continue\n",
        "\n",
        "            # Make sure walkable terrain\n",
        "            if maze[node_position[0]][node_position[1]] != 0:\n",
        "                continue\n",
        "\n",
        "            # Create new node\n",
        "            new_node = Node(current_node, node_position)\n",
        "\n",
        "            # Append\n",
        "            children.append(new_node)\n",
        "\n",
        "        # Loop through children\n",
        "        for child in children:\n",
        "\n",
        "            # Child is on the closed list\n",
        "            if child in closed_list:\n",
        "              continue\n",
        "\n",
        "            # Create the f, g, and h values\n",
        "            child.g = current_node.g + 1\n",
        "            child.h = ((child.position[0] - end_node.position[0]) ** 2) + ((child.position[1] - end_node.position[1]) ** 2)\n",
        "            child.f = child.g + child.h\n",
        "\n",
        "            # Child is already in the open list\n",
        "            for open_node in open_list:\n",
        "                if child == open_node and child.g > open_node.g:\n",
        "                    continue\n",
        "\n",
        "            # Add the child to the open list\n",
        "            open_list.append(child)\n"
      ],
      "execution_count": 2,
      "outputs": []
    },
    {
      "cell_type": "markdown",
      "metadata": {
        "id": "hral7UX2vF0z"
      },
      "source": [
        "## [Question - Explain maze]\n",
        "What type of input should value of *maze* be?\n",
        "In a Maze problem we look into figuring out the shortest path beginning from the start node till the end node. The maze is put in the form of a matrix which takes the input values as -1,0,1. which would be used to traverse from one node to another. Here the value 0 shaows the path for the node and the other values indicate the end nodes so once a particular node traverses to that value it knows that it has reached to the end so it will then try to traverse in a different node value. \n"
      ]
    },
    {
      "cell_type": "markdown",
      "metadata": {
        "id": "EcB70Wbet1-w"
      },
      "source": [
        "## [Question - Build Main]\n",
        "Please use the above code that uses the astar() function to define a path from the beginning to the end of a maze. You can choose how the maze looks and where the start and end are."
      ]
    },
    {
      "cell_type": "code",
      "metadata": {
        "id": "MY8tTsSbt1XE",
        "colab": {
          "base_uri": "https://localhost:8080/"
        },
        "outputId": "3e840e3a-18eb-4da3-c4fa-3ffec83a823d"
      },
      "source": [
        "if __name__ == \"__main__\":\n",
        "    \n",
        "    #Input values for the Maze\n",
        "    Maze = [[0,0,1,0,0,0,0,0,0],\n",
        "            [0,0,0,0,1,0,0,0,0],\n",
        "            [0,1,0,1,0,0,0,0,0],\n",
        "            [0,0,0,0,0,0,0,0,0],\n",
        "            [0,0,0,0,0,0,0,0,0],\n",
        "            [0,0,0,0,0,0,0,0,0]]\n",
        "    \n",
        "    #The start and end points\n",
        "    start = (0,0)\n",
        "    end = (len(Maze)-1, len(Maze[0])-1)\n",
        "\n",
        "    outputpath = astar(Maze,start,end)\n",
        "    print(outputpath)\n",
        "    \n",
        "   "
      ],
      "execution_count": 3,
      "outputs": [
        {
          "output_type": "stream",
          "name": "stdout",
          "text": [
            "[(0, 0), (1, 1), (2, 2), (3, 3), (4, 4), (5, 5), (5, 6), (5, 7), (5, 8)]\n"
          ]
        }
      ]
    },
    {
      "cell_type": "markdown",
      "metadata": {
        "id": "_t_M9LWSwc79"
      },
      "source": [
        "## [Question - Impossible Maze]\n",
        "Now create a maze that the algorithm cannot solve. What is the output of the algorithm?"
      ]
    },
    {
      "cell_type": "code",
      "metadata": {
        "id": "yoQ3fuVbwnuv",
        "colab": {
          "base_uri": "https://localhost:8080/"
        },
        "outputId": "7740d97f-c969-46c1-c24e-6e5a5be64bd8"
      },
      "source": [
        "\n",
        "#Input values for the Maze\n",
        "Maze1 = [[0,1,1,0,0,0,0,0,0],\n",
        "            [1,1,0,0,1,0,0,0,0],\n",
        "            [0,1,0,1,0,0,0,0,0],\n",
        "            [0,0,0,0,0,0,0,0,0],\n",
        "            [0,0,0,0,0,0,0,0,0],\n",
        "            [0,0,0,0,0,0,0,0,0]]\n",
        "    \n",
        "    #below are the start and end points\n",
        "start = (0,0)\n",
        "end = (len(Maze)-1, len(Maze[0])-1)\n",
        "\n",
        "outputpath1 = astar(Maze1,start,end)\n",
        "print(outputpath1)"
      ],
      "execution_count": 5,
      "outputs": [
        {
          "output_type": "stream",
          "name": "stdout",
          "text": [
            "None\n"
          ]
        }
      ]
    }
  ]
}